{
 "cells": [
  {
   "cell_type": "markdown",
   "id": "87f7ab7a",
   "metadata": {},
   "source": [
    "# Урок 5"
   ]
  },
  {
   "cell_type": "markdown",
   "id": "6f97e22b",
   "metadata": {},
   "source": [
    "## Задание 1. "
   ]
  },
  {
   "cell_type": "markdown",
   "id": "82ec7b17",
   "metadata": {},
   "source": [
    "### Найти с помощью NumPy SVD для матрицы\n",
    "$$\\begin{pmatrix}\n",
    "1 & 2 & 0\\\\ \n",
    "0 & 0 & 5\\\\ \n",
    "3 & -4 & 2\\\\ \n",
    "1 & 6 & 5\\\\ \n",
    "0 & 1 & 0\n",
    "\\end{pmatrix}.$$"
   ]
  },
  {
   "cell_type": "code",
   "execution_count": 3,
   "id": "7c42db87",
   "metadata": {},
   "outputs": [],
   "source": [
    "import numpy as np"
   ]
  },
  {
   "cell_type": "code",
   "execution_count": 4,
   "id": "21ee4d66",
   "metadata": {},
   "outputs": [],
   "source": [
    "np.set_printoptions(precision=2, suppress=True)"
   ]
  },
  {
   "cell_type": "code",
   "execution_count": 5,
   "id": "13146e7e",
   "metadata": {},
   "outputs": [
    {
     "name": "stdout",
     "output_type": "stream",
     "text": [
      "Матрица A:\n",
      "[[ 1  2  0]\n",
      " [ 0  0  5]\n",
      " [ 3 -4  2]\n",
      " [ 1  6  5]\n",
      " [ 0  1  0]]\n"
     ]
    }
   ],
   "source": [
    "A = np.array([[1, 2, 0],\n",
    "              [0, 0, 5],\n",
    "              [3, -4, 2],\n",
    "              [1, 6, 5],\n",
    "              [0, 1, 0]])\n",
    "print(f'Матрица A:\\n{A}')"
   ]
  },
  {
   "cell_type": "code",
   "execution_count": 6,
   "id": "08acf9b9",
   "metadata": {},
   "outputs": [],
   "source": [
    "U, s, W = np.linalg.svd(A)\n",
    "\n",
    "# Транспонируем матрицу W\n",
    "V = W.T\n",
    "\n",
    "# s - список диагональных элементов, его нужно привести к виду диагональной матрицы для наглядности\n",
    "D = np.zeros_like(A, dtype=float)\n",
    "D[np.diag_indices(min(A.shape))] = s"
   ]
  },
  {
   "cell_type": "code",
   "execution_count": 7,
   "id": "c2594dfd",
   "metadata": {},
   "outputs": [
    {
     "name": "stdout",
     "output_type": "stream",
     "text": [
      "Матрица D:\n",
      "[[8.82 0.   0.  ]\n",
      " [0.   6.14 0.  ]\n",
      " [0.   0.   2.53]\n",
      " [0.   0.   0.  ]\n",
      " [0.   0.   0.  ]]\n"
     ]
    }
   ],
   "source": [
    "print(f'Матрица D:\\n{D}')"
   ]
  },
  {
   "cell_type": "code",
   "execution_count": 8,
   "id": "02aeeb2d",
   "metadata": {},
   "outputs": [
    {
     "name": "stdout",
     "output_type": "stream",
     "text": [
      "Матрица U:\n",
      "[[ 0.17  0.16 -0.53 -0.8  -0.16]\n",
      " [ 0.39 -0.53  0.61 -0.43  0.03]\n",
      " [-0.14 -0.82 -0.52  0.14  0.07]\n",
      " [ 0.89  0.06 -0.25  0.38 -0.06]\n",
      " [ 0.08  0.11 -0.08 -0.11  0.98]]\n"
     ]
    }
   ],
   "source": [
    "print(f'Матрица U:\\n{U}')"
   ]
  },
  {
   "cell_type": "code",
   "execution_count": 9,
   "id": "ec950856",
   "metadata": {},
   "outputs": [
    {
     "name": "stdout",
     "output_type": "stream",
     "text": [
      "[[ 1.  0. -0. -0. -0.]\n",
      " [ 0.  1.  0.  0.  0.]\n",
      " [-0.  0.  1. -0. -0.]\n",
      " [-0.  0. -0.  1. -0.]\n",
      " [-0.  0. -0. -0.  1.]]\n"
     ]
    }
   ],
   "source": [
    "# Убедимся, что она действительно ортогональна\n",
    "print(np.dot(U.T, U))"
   ]
  },
  {
   "cell_type": "code",
   "execution_count": 10,
   "id": "743287fd",
   "metadata": {},
   "outputs": [
    {
     "name": "stdout",
     "output_type": "stream",
     "text": [
      "Матрица V:\n",
      "[[ 0.07 -0.37 -0.93]\n",
      " [ 0.72  0.67 -0.21]\n",
      " [ 0.69 -0.65  0.31]]\n"
     ]
    }
   ],
   "source": [
    "print(f'Матрица V:\\n{V}')"
   ]
  },
  {
   "cell_type": "code",
   "execution_count": 11,
   "id": "1ba07925",
   "metadata": {},
   "outputs": [
    {
     "name": "stdout",
     "output_type": "stream",
     "text": [
      "[[ 1.  0. -0.]\n",
      " [ 0.  1. -0.]\n",
      " [-0. -0.  1.]]\n"
     ]
    }
   ],
   "source": [
    "# Убедимся, что она действительно ортогональна\n",
    "print(np.dot(V.T, V))"
   ]
  },
  {
   "cell_type": "code",
   "execution_count": 12,
   "id": "4e824ff7",
   "metadata": {},
   "outputs": [
    {
     "name": "stdout",
     "output_type": "stream",
     "text": [
      "[[ 1.  2.  0.]\n",
      " [ 0. -0.  5.]\n",
      " [ 3. -4.  2.]\n",
      " [ 1.  6.  5.]\n",
      " [-0.  1. -0.]]\n"
     ]
    }
   ],
   "source": [
    "# Проведем проверку\n",
    "print(np.dot(np.dot(U, D), V.T))"
   ]
  },
  {
   "cell_type": "markdown",
   "id": "3b1d3932",
   "metadata": {},
   "source": [
    "## Задание 2."
   ]
  },
  {
   "cell_type": "markdown",
   "id": "61c3abde",
   "metadata": {},
   "source": [
    "### Для матрицы из предыдущего задания найти:"
   ]
  },
  {
   "cell_type": "markdown",
   "id": "0a253f9c",
   "metadata": {},
   "source": [
    "#### а) евклидову норму;"
   ]
  },
  {
   "cell_type": "code",
   "execution_count": 14,
   "id": "6b60bd58",
   "metadata": {},
   "outputs": [
    {
     "data": {
      "text/plain": [
       "8.824868854820442"
      ]
     },
     "execution_count": 14,
     "metadata": {},
     "output_type": "execute_result"
    }
   ],
   "source": [
    "D[0][0]"
   ]
  },
  {
   "cell_type": "markdown",
   "id": "9ebee97e",
   "metadata": {},
   "source": [
    "#### б) норму Фробениуса."
   ]
  },
  {
   "cell_type": "code",
   "execution_count": 15,
   "id": "c00ac40e",
   "metadata": {},
   "outputs": [
    {
     "data": {
      "text/plain": [
       "11.045361017187261"
      ]
     },
     "execution_count": 15,
     "metadata": {},
     "output_type": "execute_result"
    }
   ],
   "source": [
    "np.sqrt(np.sum(D**2))"
   ]
  }
 ],
 "metadata": {
  "kernelspec": {
   "display_name": "Python 3",
   "language": "python",
   "name": "python3"
  },
  "language_info": {
   "codemirror_mode": {
    "name": "ipython",
    "version": 3
   },
   "file_extension": ".py",
   "mimetype": "text/x-python",
   "name": "python",
   "nbconvert_exporter": "python",
   "pygments_lexer": "ipython3",
   "version": "3.7.1rc1"
  }
 },
 "nbformat": 4,
 "nbformat_minor": 5
}
