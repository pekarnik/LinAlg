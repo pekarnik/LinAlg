{
 "cells": [
  {
   "cell_type": "markdown",
   "id": "2395a930",
   "metadata": {},
   "source": [
    "# Задание 5"
   ]
  },
  {
   "cell_type": "markdown",
   "id": "b386aa7a",
   "metadata": {},
   "source": [
    "## Написать на Python функцию для перемножения двух произвольных матриц, не используя NumPy."
   ]
  },
  {
   "cell_type": "code",
   "execution_count": 26,
   "id": "25a42fed",
   "metadata": {},
   "outputs": [],
   "source": [
    "def multiply_matrix(mat_a,mat_b):\n",
    "    if(len(mat_a[0])!=len(mat_b)):\n",
    "        print(\"Матрицы не могут быть перемножены.\")\n",
    "        return None\n",
    "    res = []\n",
    "    a1 = len(mat_a)\n",
    "    a2 = len(mat_a[0])\n",
    "    b1 = len(mat_b)\n",
    "    b2 = len(mat_b[0])\n",
    "    for i in range (0,a1):\n",
    "        pre_res = []\n",
    "        for j in range (0,b2):\n",
    "            sum = 0\n",
    "            for k in range (0,a2):\n",
    "                sum += mat_a[i][k]*mat_b[k][j]\n",
    "            pre_res.append(sum)\n",
    "        res.append(pre_res)\n",
    "    return res\n",
    "            \n",
    "        "
   ]
  },
  {
   "cell_type": "code",
   "execution_count": 32,
   "id": "073119d0",
   "metadata": {},
   "outputs": [],
   "source": [
    "mat_a = [[0,1],\n",
    "         [1,0],\n",
    "         [2,3],\n",
    "        [54,32]]"
   ]
  },
  {
   "cell_type": "code",
   "execution_count": 33,
   "id": "1d2ea068",
   "metadata": {},
   "outputs": [],
   "source": [
    "mat_b = [[0,3,4],\n",
    "        [3,5,13]]"
   ]
  },
  {
   "cell_type": "code",
   "execution_count": 34,
   "id": "3a30840c",
   "metadata": {},
   "outputs": [
    {
     "name": "stdout",
     "output_type": "stream",
     "text": [
      "[[3, 5, 13], [0, 3, 4], [9, 21, 47], [96, 322, 632]]\n"
     ]
    }
   ],
   "source": [
    "print(multiply_matrix(mat_a,mat_b))"
   ]
  },
  {
   "cell_type": "code",
   "execution_count": null,
   "id": "6727c8df",
   "metadata": {},
   "outputs": [],
   "source": []
  }
 ],
 "metadata": {
  "kernelspec": {
   "display_name": "Python 3",
   "language": "python",
   "name": "python3"
  },
  "language_info": {
   "codemirror_mode": {
    "name": "ipython",
    "version": 3
   },
   "file_extension": ".py",
   "mimetype": "text/x-python",
   "name": "python",
   "nbconvert_exporter": "python",
   "pygments_lexer": "ipython3",
   "version": "3.7.1rc1"
  }
 },
 "nbformat": 4,
 "nbformat_minor": 5
}
