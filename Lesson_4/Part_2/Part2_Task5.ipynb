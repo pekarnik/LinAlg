{
 "cells": [
  {
   "cell_type": "markdown",
   "id": "951c33dc",
   "metadata": {},
   "source": [
    "# Часть 2. Задание 5"
   ]
  },
  {
   "cell_type": "markdown",
   "id": "6fd2a846",
   "metadata": {},
   "source": [
    "## Написать на Python программу с реализацией одного из изученных алгоритмов решения СЛАУ."
   ]
  },
  {
   "cell_type": "code",
   "execution_count": 1,
   "id": "6c80c071",
   "metadata": {},
   "outputs": [],
   "source": [
    "import numpy as np"
   ]
  },
  {
   "cell_type": "code",
   "execution_count": 2,
   "id": "84f7ba83",
   "metadata": {},
   "outputs": [],
   "source": [
    "#Минор матрицы\n",
    "def submatrix(M, c):\n",
    "    B = [[1]*len(M) for i in range(len(M))]\n",
    "    for l in range(len(M)):\n",
    "        for k in range(len(M)):\n",
    "            B[l][k] = M[l][k]\n",
    "    \n",
    "    B.pop(0)\n",
    "    \n",
    "    for i in range(len(B)):\n",
    "        B[i].pop(c)\n",
    "    return B\n",
    "\n",
    "#Метод Лапласа\n",
    "def det_L(M):\n",
    "    X = 0\n",
    "    if len(M) != len(M[0]):\n",
    "        print('Матрица не квадратная')\n",
    "        return None\n",
    "    if len(M)<=2:\n",
    "        return M[0][0] * M[1][1] - M[0][1] * M[1][0]\n",
    "    else:\n",
    "        for i in range(len(M)):\n",
    "            X = X + ((-1)**i)*M[0][i]*det_L(submatrix(M,i))\n",
    "    return X\n",
    "\n",
    "#Метод Краммера\n",
    "def met_kram(A,B):\n",
    "    det_A = det_L(A)\n",
    "    X = []\n",
    "    if det_A == 0:\n",
    "        print('Определитель матрицы не должен быть равен 0')\n",
    "        return X\n",
    "    n = len(A)    \n",
    "    for i in range(n):\n",
    "        matrix = A.copy()\n",
    "        matrix[:,i] = B\n",
    "        X.append(det_L(matrix) / det_A)\n",
    "    return X"
   ]
  },
  {
   "cell_type": "code",
   "execution_count": 3,
   "id": "1ba05b72",
   "metadata": {},
   "outputs": [
    {
     "name": "stdout",
     "output_type": "stream",
     "text": [
      "[0.25, 1.0, -0.75]\n"
     ]
    }
   ],
   "source": [
    "a = np.array([[0,3,4],[4,3,0],[5,4,3]])\n",
    "b = np.array([0,4,3])\n",
    "print(met_kram(a,b))"
   ]
  },
  {
   "cell_type": "code",
   "execution_count": null,
   "id": "a157fbcc",
   "metadata": {},
   "outputs": [],
   "source": []
  }
 ],
 "metadata": {
  "kernelspec": {
   "display_name": "Python 3",
   "language": "python",
   "name": "python3"
  },
  "language_info": {
   "codemirror_mode": {
    "name": "ipython",
    "version": 3
   },
   "file_extension": ".py",
   "mimetype": "text/x-python",
   "name": "python",
   "nbconvert_exporter": "python",
   "pygments_lexer": "ipython3",
   "version": "3.7.1rc1"
  }
 },
 "nbformat": 4,
 "nbformat_minor": 5
}
